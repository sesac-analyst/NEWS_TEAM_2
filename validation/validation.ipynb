{
 "cells": [
  {
   "cell_type": "code",
   "execution_count": 4,
   "metadata": {},
   "outputs": [],
   "source": [
    "import pandas as pd\n",
    "from sklearn.cluster import KMeans\n",
    "from sklearn.metrics import silhouette_score\n",
    "import numpy as np\n",
    "import re\n",
    "import ast\n"
   ]
  },
  {
   "cell_type": "code",
   "execution_count": 5,
   "metadata": {},
   "outputs": [],
   "source": [
    "df = pd.read_csv('../data/recommendations.csv')"
   ]
  },
  {
   "cell_type": "code",
   "execution_count": 6,
   "metadata": {},
   "outputs": [],
   "source": [
    "# Function to clean and convert string embeddings to numpy arrays\n",
    "def clean_and_convert_embeddings(embedding_str):\n",
    "    # Insert commas between numbers using regular expressions\n",
    "    cleaned_str = re.sub(r'(?<=\\d)\\s+(?=[-\\d])', ', ', embedding_str)\n",
    "\n",
    "     # Ensure the string is properly formatted as a list\n",
    "    if not cleaned_str.startswith('['):\n",
    "        cleaned_str = '[' + cleaned_str\n",
    "    if not cleaned_str.endswith(']'):\n",
    "        cleaned_str = cleaned_str + ']'\n",
    "\n",
    "    # Convert the cleaned string to a list using ast.literal_eval\n",
    "    try:\n",
    "        embedding_list = ast.literal_eval(cleaned_str)\n",
    "    except (SyntaxError, ValueError) as e:\n",
    "        print(f\"Error parsing embedding: {e}\")\n",
    "        embedding_list = []\n",
    "    # Convert the list to a numpy array\n",
    "    return np.array(embedding_list)"
   ]
  },
  {
   "cell_type": "code",
   "execution_count": 7,
   "metadata": {},
   "outputs": [],
   "source": [
    "df['embedding'] = df['embedding'].apply(clean_and_convert_embeddings)"
   ]
  },
  {
   "cell_type": "code",
   "execution_count": 8,
   "metadata": {},
   "outputs": [
    {
     "name": "stdout",
     "output_type": "stream",
     "text": [
      "The average silhouette score is: 0.20208774605643434\n"
     ]
    }
   ],
   "source": [
    "\n",
    "# Assuming df is your DataFrame and 'embedding' contains the embedded vectors\n",
    "# Convert the 'embedding' column to a numpy array\n",
    "embeddings = np.array(df['embedding'].tolist())\n",
    "\n",
    "# Step 1: Choose the number of clusters\n",
    "n_clusters = 2  # You can adjust this based on your data\n",
    "\n",
    "# Step 2: Cluster the data using K-Means\n",
    "kmeans = KMeans(n_clusters=n_clusters, random_state=42)\n",
    "cluster_labels = kmeans.fit_predict(embeddings)\n",
    "\n",
    "# Step 3: Calculate the Silhouette Coefficient\n",
    "silhouette_avg = silhouette_score(embeddings, cluster_labels)\n",
    "\n",
    "print(f\"The average silhouette score is: {silhouette_avg}\")"
   ]
  },
  {
   "cell_type": "code",
   "execution_count": 10,
   "metadata": {},
   "outputs": [
    {
     "name": "stdout",
     "output_type": "stream",
     "text": [
      "<class 'pandas.core.frame.DataFrame'>\n",
      "Index: 5 entries, 40597 to 11342\n",
      "Data columns (total 11 columns):\n",
      " #   Column            Non-Null Count  Dtype \n",
      "---  ------            --------------  ----- \n",
      " 0   url               5 non-null      object\n",
      " 1   title             5 non-null      object\n",
      " 2   publication_date  5 non-null      object\n",
      " 3   content           5 non-null      object\n",
      " 4   platform_id       5 non-null      object\n",
      " 5   entities          5 non-null      object\n",
      " 6   sentence_vector   5 non-null      object\n",
      " 7   content_vector    5 non-null      object\n",
      " 8   embedding         5 non-null      object\n",
      " 9   rec_url           5 non-null      object\n",
      " 10  rec_title         5 non-null      object\n",
      "dtypes: object(11)\n",
      "memory usage: 480.0+ bytes\n"
     ]
    }
   ],
   "source": [
    "random_articles.info()"
   ]
  },
  {
   "cell_type": "code",
   "execution_count": 19,
   "metadata": {},
   "outputs": [],
   "source": [
    "random_articles['rec_title'] = random_articles['rec_title'].apply(ast.literal_eval)"
   ]
  },
  {
   "cell_type": "code",
   "execution_count": 20,
   "metadata": {},
   "outputs": [],
   "source": [
    "random_articles['rec_url'] = random_articles['rec_url'].apply(ast.literal_eval)"
   ]
  },
  {
   "cell_type": "code",
   "execution_count": 9,
   "metadata": {},
   "outputs": [],
   "source": [
    "random_articles = df.sample(n=5, random_state=33)"
   ]
  },
  {
   "cell_type": "code",
   "execution_count": 22,
   "metadata": {},
   "outputs": [
    {
     "name": "stdout",
     "output_type": "stream",
     "text": [
      "Title: [2024 상반기 히트상품] 롯데이노베이트, 비지니스 혁신 이끌 자체 AI 플랫폼, URL: https://v.daum.net/v/20240626113117734\n",
      "   Recommended Article 1: AI 속여서 정보 빼간다?…높아지는 LLM 취약점, \"특화 보안 서비스 필요\", URL: https://n.news.naver.com/mnews/article/138/0002176651\n",
      "   Recommended Article 2: [전문가기고] 외산 AI 넘어서는 '국산 AI 생존 전략', URL: https://n.news.naver.com/mnews/article/138/0002177492\n",
      "   Recommended Article 3: \"감탄했습니다\"…옴디아 수석 애널리스트, SKT AI 전략에 '엄지척', URL: https://v.daum.net/v/20240627104151358\n",
      "   Recommended Article 4: \"지적재산제도, AI 효용·안전장치 동시에 잡아야\", URL: https://v.daum.net/v/20240820161314809\n",
      "   Recommended Article 5: [전문가기고] AX 시대, AI 거버넌스가 중요하다, URL: https://v.daum.net/v/20240805160116295\n",
      "\n",
      "Title: 일본 진출 시동 건 토종 ‘AI 마케팅’ 스타트업 브이캣, URL: https://v.daum.net/v/20240809091200260\n",
      "   Recommended Article 1: 2030이 이끄는 AI 시대의 IP 혁신…2.9조 기업가치 '스토리', URL: https://v.daum.net/v/20240822125446147\n",
      "   Recommended Article 2: [Interview] 고이쿠배터리 타바타 아키라 CEO·타바타 이지 COO | GS가 찜한 日 스타트업…10초 만에 전기차 배터리 잔량 진단, URL: https://v.daum.net/v/20240603135003714\n",
      "   Recommended Article 3: “한국 IT유저, 복잡한 질문 즐겨···AI 검색엔진 서비스 성장률 2위”, URL: https://v.daum.net/v/20240619182644148\n",
      "   Recommended Article 4: LG유플러스, 서울 시내버스 정류장 18곳에 AI 체험형 옥외광고 공개, URL: https://v.daum.net/v/20240621090547592\n",
      "   Recommended Article 5: “패션 AI 도입하면…이용자도 기업도 효율성 ‘UP’”, URL: https://v.daum.net/v/20240718141116298\n",
      "\n",
      "Title: [KT 김영섭호 1년]KT, 젊어지고 날쌔졌다, URL: https://v.daum.net/v/20240827061232045\n",
      "   Recommended Article 1: `생성형AI` 인재 키우는 KT… 100인 서바이벌서 생존 경쟁, URL: https://v.daum.net/v/20240729102413091\n",
      "   Recommended Article 2: LG전자 구독사업 탄력 … 연매출 1조 넘긴다, URL: https://v.daum.net/v/20240602170302303\n",
      "   Recommended Article 3: \"그록은 가장 재미있는 AI\"…구글 이미지 AI에 머스크 '맞불', URL: https://v.daum.net/v/20240820070018005\n",
      "   Recommended Article 4: SKT, 미국 생성형 AI 스타트업 '퍼플렉시티'에 130억 원 투자, URL: https://v.daum.net/v/20240613153148384\n",
      "   Recommended Article 5: AI반도체 골든타임 잡는다…SKT 사피온, 리벨리온과 합병, URL: https://v.daum.net/v/20240818090004680\n",
      "\n",
      "Title: 시스코, 1.4조원 규모 AI 펀드 조성해 AI스타트업 투자, URL: https://v.daum.net/v/20240605094448625\n",
      "   Recommended Article 1: 시스코, 1조4000억원 규모 AI 펀드 조성해 AI스타트업 투자, URL: https://v.daum.net/v/20240605125253382\n",
      "   Recommended Article 2: AI 스타트업 코히어, 5억 달러 추가 투자 유치…오픈AI에 도전장, URL: https://v.daum.net/v/20240723140623543\n",
      "   Recommended Article 3: 시스코, AI 스타트업에 투자…1.4조원 규모 펀드 조성, URL: https://v.daum.net/v/20240605143541346\n",
      "   Recommended Article 4: TSMC 계열사-NXP, 싱가포르에 11조 투자해 반도체 공장 짓는다, URL: https://v.daum.net/v/20240606134503813\n",
      "   Recommended Article 5: \"구글 이기자\"…소프트뱅크, 美 검색 스타트업 퍼플렉시티에 투자, URL: https://v.daum.net/v/20240628092148809\n",
      "\n",
      "Title: \"누리호 사업 남긴 우주 인프라 있어…발사체 시장 추격 가능\", URL: https://n.news.naver.com/mnews/article/421/0007672584\n",
      "   Recommended Article 1: \"누리호 사업 남긴 우주 인프라 있어…발사체 시장 추격 가능\", URL: https://v.daum.net/v/20240718175143229\n",
      "   Recommended Article 2: \"각국이 플랫폼 패권 경쟁…법으로 족쇄 채우지 말아야\", URL: https://n.news.naver.com/mnews/article/001/0014756790\n",
      "   Recommended Article 3: '집단 휴진' 하루 앞둔 의협 \"밥그릇 지키기 아냐…이해해달라\", URL: https://n.news.naver.com/mnews/article/421/0007606532\n",
      "   Recommended Article 4: \"신약 조기 상업화, `초기 단계`서 결정…국가별 전략 다르게 짜야\", URL: https://n.news.naver.com/mnews/article/029/0002887044\n",
      "   Recommended Article 5: '기습 연임' 류희림 방심위원장 \"방심위 하루도 멈출 수 없어\", URL: https://n.news.naver.com/mnews/article/421/0007684883\n",
      "\n"
     ]
    }
   ],
   "source": [
    "for row in random_articles.itertuples():\n",
    "    print(f\"Title: {row.title}, URL: {row.url}\")\n",
    "    for i in range(len(row.rec_title)):\n",
    "        print(f\"   Recommended Article {i+1}: {row.rec_title[i]}, URL: {row.rec_url[i]}\")\n",
    "    print(\"\")"
   ]
  },
  {
   "cell_type": "code",
   "execution_count": null,
   "metadata": {},
   "outputs": [],
   "source": []
  }
 ],
 "metadata": {
  "kernelspec": {
   "display_name": "trans",
   "language": "python",
   "name": "python3"
  },
  "language_info": {
   "codemirror_mode": {
    "name": "ipython",
    "version": 3
   },
   "file_extension": ".py",
   "mimetype": "text/x-python",
   "name": "python",
   "nbconvert_exporter": "python",
   "pygments_lexer": "ipython3",
   "version": "3.9.19"
  }
 },
 "nbformat": 4,
 "nbformat_minor": 2
}
