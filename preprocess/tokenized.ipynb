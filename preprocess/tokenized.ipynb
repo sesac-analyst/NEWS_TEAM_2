{
 "cells": [
  {
   "cell_type": "markdown",
   "id": "fba8cba2-dfe7-4b74-b42a-5fcdf012a198",
   "metadata": {},
   "source": [
    "# 네이버 뉴스 토큰화"
   ]
  },
  {
   "cell_type": "code",
   "execution_count": null,
   "id": "c22a46f5-ee25-4062-b4fc-989996a7ad13",
   "metadata": {},
   "outputs": [],
   "source": [
    "import pandas as pd\n",
    "from konlpy.tag import Mecab\n",
    "\n",
    "# Mecab 초기화\n",
    "mecab = Mecab(dicpath=\"C:/mecab/mecab-ko-dic\")\n",
    "\n",
    "# CSV 파일 불러오기\n",
    "file_path = './naver_news_data_cleaned.csv'\n",
    "df = pd.read_csv(file_path)\n",
    "\n",
    "# title 열에서 명사만 추출하여 기존 열 수정\n",
    "df['title'] = df['title'].fillna('').apply(lambda x: ' '.join(mecab.nouns(x)))\n",
    "\n",
    "# content 열의 결측값을 빈 문자열로 대체한 후 토큰화하여 기존 열 수정\n",
    "df['content'] = df['content'].fillna('').apply(lambda x: ' '.join(mecab.morphs(x)))\n",
    "\n",
    "print(df[['title', 'content']].head(10))\n",
    "\n",
    "# 결과를 새로운 CSV 파일로 저장\n",
    "df.to_csv('./naver_news_tokenized.csv', index=False)"
   ]
  },
  {
   "cell_type": "markdown",
   "id": "906367d0-87b4-411b-a291-b014a742b932",
   "metadata": {},
   "source": [
    "## 네이버뉴스 title은 명사만 content는 토큰화"
   ]
  },
  {
   "cell_type": "markdown",
   "id": "406cfb90-7ecd-4c94-a26e-9edf6437aed4",
   "metadata": {},
   "source": [
    "# 다음 뉴스 토큰화"
   ]
  },
  {
   "cell_type": "code",
   "execution_count": 9,
   "id": "b3e9da61-db90-4ce8-992c-df998842fad1",
   "metadata": {},
   "outputs": [],
   "source": [
    "import pandas as pd\n",
    "from konlpy.tag import Mecab\n",
    "\n",
    "# Mecab 초기화\n",
    "mecab = Mecab(dicpath=\"C:/mecab/mecab-ko-dic\")\n",
    "\n",
    "# CSV 파일 불러오기\n",
    "file_path = './daum_news_data_cleaned.csv'\n",
    "df = pd.read_csv(file_path)\n",
    "\n",
    "# title 열에서 명사만 추출하여 기존 열 수정\n",
    "df['title'] = df['title'].fillna('').apply(lambda x: ' '.join(mecab.nouns(x)))\n",
    "\n",
    "# content 열의 결측값을 빈 문자열로 대체한 후 토큰화하여 기존 열 수정\n",
    "df['content'] = df['content'].fillna('').apply(lambda x: ' '.join(mecab.morphs(x)))\n",
    "\n",
    "print(df[['title', 'content']].head(10))\n",
    "\n",
    "# 결과를 새로운 CSV 파일로 저장\n",
    "df.to_csv('./daum_news_tokenized.csv', index=False)"
   ]
  },
  {
   "cell_type": "markdown",
   "id": "0e1697e3-5d3a-4b04-b7e0-f62bb60cdac3",
   "metadata": {},
   "source": [
    "## 다음 뉴스 title 명사만 content는 토큰화"
   ]
  },
  {
   "cell_type": "code",
   "execution_count": null,
   "id": "b8737667-242c-4ce8-b1f8-7367b300b2c1",
   "metadata": {},
   "outputs": [],
   "source": []
  }
 ],
 "metadata": {
  "kernelspec": {
   "display_name": "Python 3 (ipykernel)",
   "language": "python",
   "name": "python3"
  },
  "language_info": {
   "codemirror_mode": {
    "name": "ipython",
    "version": 3
   },
   "file_extension": ".py",
   "mimetype": "text/x-python",
   "name": "python",
   "nbconvert_exporter": "python",
   "pygments_lexer": "ipython3",
   "version": "3.11.7"
  }
 },
 "nbformat": 4,
 "nbformat_minor": 5
}
